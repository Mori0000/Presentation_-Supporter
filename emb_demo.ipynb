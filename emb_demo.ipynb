{
 "cells": [
  {
   "cell_type": "code",
   "execution_count": 20,
   "metadata": {},
   "outputs": [
    {
     "name": "stdout",
     "output_type": "stream",
     "text": [
      "                            demo_text                 best_match_text  \\\n",
      "0                こんにちは。チームりんりんのもりりんです        おはようございます。チームりんりんのもりりんです   \n",
      "1                  私たちの作品は「プレゼンバディです」              私たちの作品は「プレゼンバディです」   \n",
      "2  プレゼンバディは、プレゼンテーションの発表を手伝ってくれるアプリです              私たちの作品は「プレゼンバディです」   \n",
      "3      あ、メモりんではなくて、もりりんです。間違えないでくださいね  あ、メモりんではなくて、もりりんです。間違えないでくださいね   \n",
      "\n",
      "   similarity_score  \n",
      "0          0.985254  \n",
      "1          1.000000  \n",
      "2          0.893822  \n",
      "3          1.000000  \n"
     ]
    }
   ],
   "source": [
    "import torch\n",
    "from transformers import AutoTokenizer, AutoModel\n",
    "import pandas as pd\n",
    "import numpy as np\n",
    "\n",
    "def prepare_inputs(text_list, tokenizer):\n",
    "    return tokenizer(text_list, padding=True, truncation=True, return_tensors=\"pt\")\n",
    "\n",
    "def average_pool(last_hidden_state, attention_mask):\n",
    "    masked_hidden_state = last_hidden_state * attention_mask.unsqueeze(-1)\n",
    "    return masked_hidden_state.sum(dim=1) / attention_mask.sum(dim=1, keepdim=True)\n",
    "\n",
    "def calculate_similarity(embeddings, split_index):\n",
    "    from torch.nn.functional import cosine_similarity\n",
    "    output_embeddings = embeddings[:split_index]\n",
    "    tags_embeddings = embeddings[split_index:]\n",
    "    similarity_matrix = cosine_similarity(output_embeddings.unsqueeze(1), tags_embeddings.unsqueeze(0), dim=-1)\n",
    "    best_scores, best_indices = similarity_matrix.max(dim=-1)\n",
    "    return best_indices, best_scores\n",
    "\n",
    "def main():\n",
    "    # トークナイザーとモデルのロード\n",
    "    tokenizer = AutoTokenizer.from_pretrained(\"intfloat/multilingual-e5-large\")\n",
    "    model = AutoModel.from_pretrained(\"intfloat/multilingual-e5-small\")\n",
    "    device = torch.device(\"cuda\" if torch.cuda.is_available() else \"cpu\")\n",
    "    model.to(device)\n",
    "    \n",
    "    # データの読み込み\n",
    "    demo_data1 = pd.read_csv('./data/demo.txt', header=None, names=['text'])  # ①のデータを読み込む\n",
    "    demo_data2 = pd.read_csv('./data/demo2.txt', header=None, names=['text'])  # ②のデータを読み込む\n",
    "    \n",
    "    # テキストリストの結合\n",
    "    texts = demo_data1['text'].tolist() + demo_data2['text'].tolist()\n",
    "    \n",
    "    # トークン化\n",
    "    inputs = prepare_inputs(texts, tokenizer)\n",
    "    inputs = {k: v.to(device) for k, v in inputs.items()}\n",
    "    \n",
    "    # モデル推論\n",
    "    with torch.no_grad():\n",
    "        outputs = model(**inputs)\n",
    "    \n",
    "    # 平均プーリング\n",
    "    embeddings = average_pool(outputs.last_hidden_state, inputs['attention_mask'])\n",
    "    \n",
    "    # 埋め込みのCPUへの転送\n",
    "    embeddings = embeddings.cpu()\n",
    "    \n",
    "    # 類似度計算\n",
    "    split_index = len(demo_data1)\n",
    "    best_indices, best_scores = calculate_similarity(embeddings, split_index)\n",
    "    \n",
    "    # 結果の表示\n",
    "    results = pd.DataFrame({\n",
    "        'demo_text': demo_data1['text'],\n",
    "        'best_match_text': [demo_data2['text'][idx.item()] for idx in best_indices],\n",
    "        'similarity_score': best_scores.numpy()\n",
    "    })\n",
    "    \n",
    "    print(results)\n",
    "\n",
    "if __name__ == \"__main__\":\n",
    "    main()\n"
   ]
  },
  {
   "cell_type": "code",
   "execution_count": null,
   "metadata": {},
   "outputs": [],
   "source": []
  },
  {
   "cell_type": "code",
   "execution_count": null,
   "metadata": {},
   "outputs": [],
   "source": []
  }
 ],
 "metadata": {
  "kernelspec": {
   "display_name": "Python 3",
   "language": "python",
   "name": "python3"
  },
  "language_info": {
   "codemirror_mode": {
    "name": "ipython",
    "version": 3
   },
   "file_extension": ".py",
   "mimetype": "text/x-python",
   "name": "python",
   "nbconvert_exporter": "python",
   "pygments_lexer": "ipython3",
   "version": "3.11.1"
  }
 },
 "nbformat": 4,
 "nbformat_minor": 2
}
